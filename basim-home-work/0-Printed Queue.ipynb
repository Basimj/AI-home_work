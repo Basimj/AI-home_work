{
 "cells": [
  {
   "cell_type": "code",
   "execution_count": null,
   "id": "21e62592-2509-4a09-86ee-cfec9a2a606c",
   "metadata": {},
   "outputs": [],
   "source": [
    "def Print_queue(files):\n",
    "  \n",
    "  queue_size = 7  \n",
    "  print_queue = []  \n",
    "\n",
    "  for file in files:\n",
    "    if len(print_queue) == queue_size:\n",
    "      print(f\"تم طباعة الملف: {print_queue.pop(0)}\")\n",
    "    \n",
    "    print_queue.append(file)\n",
    "    \n",
    "  while print_queue:\n",
    "    print(f\"تم طباعة الملف: {print_queue.pop(0)}\")\n",
    "\n",
    "\n",
    "  if not print_queue:\n",
    "    print(\"تم الانتهاء من الطباعة، الطابور فارغ\")\n",
    "    \n",
    "files = ['A', 'B', 'C', 'D', 'E', 'F', 'G', 'H', 'I', 'J']\n",
    "Print_queue(files)\n"
   ]
  }
 ],
 "metadata": {
  "kernelspec": {
   "display_name": "Python 3 (ipykernel)",
   "language": "python",
   "name": "python3"
  },
  "language_info": {
   "codemirror_mode": {
    "name": "ipython",
    "version": 3
   },
   "file_extension": ".py",
   "mimetype": "text/x-python",
   "name": "python",
   "nbconvert_exporter": "python",
   "pygments_lexer": "ipython3",
   "version": "3.12.4"
  }
 },
 "nbformat": 4,
 "nbformat_minor": 5
}
